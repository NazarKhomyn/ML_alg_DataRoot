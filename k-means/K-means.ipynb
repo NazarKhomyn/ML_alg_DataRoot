{
 "cells": [
  {
   "cell_type": "markdown",
   "metadata": {
    "collapsed": false
   },
   "source": [
    "# K-means"
   ]
  },
  {
   "cell_type": "code",
   "execution_count": 16,
   "metadata": {
    "collapsed": true
   },
   "outputs": [],
   "source": [
    "# necessary imports\n",
    "%matplotlib inline\n",
    "import matplotlib.pyplot as plt\n",
    "import numpy as np"
   ]
  },
  {
   "cell_type": "markdown",
   "metadata": {},
   "source": [
    "### Generate data"
   ]
  },
  {
   "cell_type": "code",
   "execution_count": 17,
   "metadata": {
    "collapsed": true
   },
   "outputs": [],
   "source": [
    "# Generate Data\n",
    "points = np.vstack(((np.random.randn(150, 2) * 0.75 + np.array([1, 0])),\n",
    "              (np.random.randn(50, 2) * 0.25 + np.array([-0.5, 0.5])),\n",
    "              (np.random.randn(50, 2) * 0.5 + np.array([-0.5, -0.5]))))"
   ]
  },
  {
   "cell_type": "markdown",
   "metadata": {},
   "source": [
    "### Main functions"
   ]
  },
  {
   "cell_type": "code",
   "execution_count": 18,
   "metadata": {
    "collapsed": true
   },
   "outputs": [],
   "source": [
    "def initialize_centroids(points, k):\n",
    "    '''\n",
    "        Selects k random points as initial\n",
    "        points from dataset\n",
    "    '''\n",
    "    centroids = points.copy()\n",
    "    np.random.shuffle(centroids)\n",
    "    return centroids[:k]"
   ]
  },
  {
   "cell_type": "code",
   "execution_count": 78,
   "metadata": {
    "collapsed": false
   },
   "outputs": [
    {
     "data": {
      "text/plain": [
       "array([[-0.6137597 , -0.39603014],\n",
       "       [-0.84796568,  0.46598821],\n",
       "       [ 0.7252003 ,  0.95479368]])"
      ]
     },
     "execution_count": 78,
     "metadata": {},
     "output_type": "execute_result"
    }
   ],
   "source": [
    "initialize_centroids(points,3)"
   ]
  },
  {
   "cell_type": "code",
   "execution_count": 79,
   "metadata": {
    "collapsed": false
   },
   "outputs": [],
   "source": [
    "def closest_centroid(points, centroids):\n",
    "    '''\n",
    "        Returns an array containing the index to the nearest centroid for each point\n",
    "    '''\n",
    "    dists = np.sqrt((points - centroids[:,np.newaxis])**2).sum(axis=2)\n",
    "    return np.argmin(dists, axis = 0)"
   ]
  },
  {
   "cell_type": "code",
   "execution_count": 100,
   "metadata": {
    "collapsed": false
   },
   "outputs": [
    {
     "data": {
      "text/plain": [
       "(250, 2)"
      ]
     },
     "execution_count": 100,
     "metadata": {},
     "output_type": "execute_result"
    }
   ],
   "source": [
    "points.shape"
   ]
  },
  {
   "cell_type": "code",
   "execution_count": 99,
   "metadata": {
    "collapsed": false
   },
   "outputs": [
    {
     "data": {
      "text/plain": [
       "(10, 1, 2)"
      ]
     },
     "execution_count": 99,
     "metadata": {},
     "output_type": "execute_result"
    }
   ],
   "source": [
    "centroids[:,np.newaxis].shape"
   ]
  },
  {
   "cell_type": "code",
   "execution_count": 102,
   "metadata": {
    "collapsed": false
   },
   "outputs": [
    {
     "data": {
      "text/plain": [
       "(10, 2)"
      ]
     },
     "execution_count": 102,
     "metadata": {},
     "output_type": "execute_result"
    }
   ],
   "source": [
    "centroids.shape"
   ]
  },
  {
   "cell_type": "code",
   "execution_count": 108,
   "metadata": {
    "collapsed": false
   },
   "outputs": [
    {
     "data": {
      "text/plain": [
       "array([[ 0.91326132,  0.36415259],\n",
       "       [ 1.05604556,  0.07871516],\n",
       "       [ 0.84771457,  0.26576375],\n",
       "       [ 1.59329332, -0.19171556],\n",
       "       [ 1.04910016,  0.34849256]])"
      ]
     },
     "execution_count": 108,
     "metadata": {},
     "output_type": "execute_result"
    }
   ],
   "source": [
    "points[:5]"
   ]
  },
  {
   "cell_type": "code",
   "execution_count": 126,
   "metadata": {
    "collapsed": false
   },
   "outputs": [
    {
     "data": {
      "text/plain": [
       "array([[-0.34788928, -0.29570099],\n",
       "       [ 0.07131502, -1.23237642],\n",
       "       [ 1.42834233,  1.21401771],\n",
       "       [ 0.58806807, -0.18248707],\n",
       "       [-0.0627667 ,  0.55188713],\n",
       "       [ 1.53417844,  0.21627701],\n",
       "       [ 0.78620617,  0.73949081],\n",
       "       [ 1.71501674, -0.91822337],\n",
       "       [-0.59117702,  0.48953456],\n",
       "       [-0.83459839, -0.70427178]])"
      ]
     },
     "execution_count": 126,
     "metadata": {},
     "output_type": "execute_result"
    }
   ],
   "source": [
    "centroids"
   ]
  },
  {
   "cell_type": "code",
   "execution_count": 112,
   "metadata": {
    "collapsed": false
   },
   "outputs": [
    {
     "data": {
      "text/plain": [
       "(10, 250, 2)"
      ]
     },
     "execution_count": 112,
     "metadata": {},
     "output_type": "execute_result"
    }
   ],
   "source": [
    "(points - centroids[:,np.newaxis]).shape"
   ]
  },
  {
   "cell_type": "code",
   "execution_count": 125,
   "metadata": {
    "collapsed": false
   },
   "outputs": [
    {
     "data": {
      "text/plain": [
       "array([[[ 1.2611506 ,  0.65985357],\n",
       "        [ 1.40393484,  0.37441614],\n",
       "        [ 1.19560385,  0.56146473],\n",
       "        ..., \n",
       "        [ 0.47259796, -0.70191649],\n",
       "        [-0.38515909,  0.4718968 ],\n",
       "        [-0.26587042, -0.10032915]],\n",
       "\n",
       "       [[ 0.84194629,  1.59652901],\n",
       "        [ 0.98473053,  1.31109158],\n",
       "        [ 0.77639955,  1.49814017],\n",
       "        ..., \n",
       "        [ 0.05339365,  0.23475895],\n",
       "        [-0.80436339,  1.40857224],\n",
       "        [-0.68507472,  0.83634629]],\n",
       "\n",
       "       [[-0.51508102, -0.84986512],\n",
       "        [-0.37229678, -1.13530255],\n",
       "        [-0.58062776, -0.94825396],\n",
       "        ..., \n",
       "        [-1.30363366, -2.21163518],\n",
       "        [-2.1613907 , -1.03782189],\n",
       "        [-2.04210203, -1.61004784]],\n",
       "\n",
       "       ..., \n",
       "       [[-0.80175543,  1.28237595],\n",
       "        [-0.65897119,  0.99693852],\n",
       "        [-0.86730217,  1.18398711],\n",
       "        ..., \n",
       "        [-1.59030807, -0.07939411],\n",
       "        [-2.44806511,  1.09441918],\n",
       "        [-2.32877644,  0.52219323]],\n",
       "\n",
       "       [[ 1.50443834, -0.12538198],\n",
       "        [ 1.64722258, -0.41081941],\n",
       "        [ 1.43889159, -0.22377082],\n",
       "        ..., \n",
       "        [ 0.7158857 , -1.48715204],\n",
       "        [-0.14187135, -0.31333875],\n",
       "        [-0.02258268, -0.8855647 ]],\n",
       "\n",
       "       [[ 1.74785971,  1.06842436],\n",
       "        [ 1.89064395,  0.78298693],\n",
       "        [ 1.68231297,  0.97003552],\n",
       "        ..., \n",
       "        [ 0.95930707, -0.2933457 ],\n",
       "        [ 0.10155003,  0.88046759],\n",
       "        [ 0.22083869,  0.30824164]]])"
      ]
     },
     "execution_count": 125,
     "metadata": {},
     "output_type": "execute_result"
    }
   ],
   "source": [
    "(points - centroids[:,np.newaxis])"
   ]
  },
  {
   "cell_type": "code",
   "execution_count": 121,
   "metadata": {
    "collapsed": false
   },
   "outputs": [],
   "source": [
    " dists = ((points - centroids[:,np.newaxis])).sum(axis=0)"
   ]
  },
  {
   "cell_type": "code",
   "execution_count": 122,
   "metadata": {
    "collapsed": false
   },
   "outputs": [
    {
     "data": {
      "text/plain": [
       "(250, 2)"
      ]
     },
     "execution_count": 122,
     "metadata": {},
     "output_type": "execute_result"
    }
   ],
   "source": [
    "dists.shape"
   ]
  },
  {
   "cell_type": "code",
   "execution_count": 124,
   "metadata": {
    "collapsed": false
   },
   "outputs": [
    {
     "data": {
      "text/plain": [
       "array([[  4.84591778,   3.76337827],\n",
       "       [  6.27376018,   0.90900396],\n",
       "       [  4.19045035,   2.77948985],\n",
       "       [ 11.64623786,  -1.79530318],\n",
       "       [  6.20430626,   3.60677804],\n",
       "       [  8.22869505,   9.25390224],\n",
       "       [ 12.96352318,   3.69639554],\n",
       "       [  3.64242338,   2.83727616],\n",
       "       [  2.96530767,   9.66978917],\n",
       "       [ 10.37085302,   7.79227966],\n",
       "       [ 12.48558871,   0.36160314],\n",
       "       [  6.28290119,  -1.90058499],\n",
       "       [ 14.93120327,   2.70927252],\n",
       "       [  9.48852823,  -4.73024055],\n",
       "       [ 14.98246135, -10.49057785],\n",
       "       [  3.94856593, -15.31283816],\n",
       "       [ 14.30828722,  -5.08204431],\n",
       "       [ 26.42531205, -14.97105592],\n",
       "       [ -6.69380079,  11.64478264],\n",
       "       [ 11.31755166,  -4.73075835],\n",
       "       [  6.55472017,   3.07366976],\n",
       "       [ 18.01986306, -12.99435411],\n",
       "       [  8.99622361,   5.55028203],\n",
       "       [ -8.41586104,   5.69352105],\n",
       "       [ -0.69119799,   3.36179514],\n",
       "       [ 10.98877008,   2.98610495],\n",
       "       [  2.50273325,   5.04431896],\n",
       "       [ 20.5705422 ,  -5.86299016],\n",
       "       [  6.24931763,   2.64827583],\n",
       "       [  5.2188668 ,   1.16149849],\n",
       "       [  7.42091494,   0.25391915],\n",
       "       [  8.96385613,  -0.98074768],\n",
       "       [ -3.5324726 ,  -3.28262607],\n",
       "       [ 13.02873122,  18.48826353],\n",
       "       [ 14.23317562,  -9.3827157 ],\n",
       "       [  9.54991479,  -2.94157541],\n",
       "       [  5.96937014,  -7.65901997],\n",
       "       [  3.61263636,   7.01364339],\n",
       "       [ -2.80561306,   0.15368392],\n",
       "       [ -8.20575505,  -0.02756612],\n",
       "       [  6.73159698,  11.73229247],\n",
       "       [  1.30499482, -10.73723964],\n",
       "       [  9.25070546,   5.64466017],\n",
       "       [  2.30593949,  -4.8901918 ],\n",
       "       [ 18.62129468,   1.89418066],\n",
       "       [  7.00958823,  10.6576332 ],\n",
       "       [ 13.88276615, -18.45077064],\n",
       "       [ 16.25702784,  11.17958189],\n",
       "       [  0.78185873,  -6.06402692],\n",
       "       [  5.82720699,   8.77156154],\n",
       "       [  8.20619664,   3.1858936 ],\n",
       "       [  5.66619466,  -7.56212778],\n",
       "       [ -2.96254952,   8.00208627],\n",
       "       [  3.83525074,  11.02206245],\n",
       "       [ 17.91310394,   3.31557782],\n",
       "       [  2.2879847 ,   7.91796728],\n",
       "       [  5.15351429,   6.6443337 ],\n",
       "       [ -7.47268238,  -7.59167792],\n",
       "       [ 12.90825489,  15.0142982 ],\n",
       "       [ 11.40698448,   0.55434433],\n",
       "       [ -7.22401888,  11.23997329],\n",
       "       [  2.1004921 ,  -3.72695978],\n",
       "       [ -5.5205667 ,   2.58773645],\n",
       "       [ 12.39585967,   1.37465785],\n",
       "       [  6.59266028,  13.19920382],\n",
       "       [ -1.65845229,  -0.96987366],\n",
       "       [ -0.23030205,  -9.93030835],\n",
       "       [ -7.44188964,   4.57863109],\n",
       "       [  2.13570195,   2.64767257],\n",
       "       [  7.86516904, -11.48485949],\n",
       "       [ -0.82096662,   7.62012666],\n",
       "       [  7.33786542,   6.90209476],\n",
       "       [ 13.05548869,   6.17167982],\n",
       "       [ 11.99094078, -10.64593599],\n",
       "       [ 16.21841869,  -5.31059795],\n",
       "       [  3.27672876,   0.50947821],\n",
       "       [  2.7825767 ,   9.3987394 ],\n",
       "       [ 11.69947013,  -6.46777137],\n",
       "       [ -6.3684502 ,  -4.16828337],\n",
       "       [  8.64224413,  11.77778403],\n",
       "       [  9.12216989,  -0.97638185],\n",
       "       [  9.90139195,   1.13965687],\n",
       "       [ -4.84654268,  -2.45896796],\n",
       "       [ -0.57706283,  11.84541682],\n",
       "       [  4.89448724,   5.69098175],\n",
       "       [ -0.19938221,   6.3639631 ],\n",
       "       [  0.43510726,   0.06611688],\n",
       "       [ -4.51946567,   3.3483881 ],\n",
       "       [ 15.3251738 ,   3.71544434],\n",
       "       [ -8.53174595,   1.89986842],\n",
       "       [  6.38196031,   1.97658511],\n",
       "       [ 12.20099317,   5.14944675],\n",
       "       [ 11.55921198,   7.76640005],\n",
       "       [  2.15319712,   8.14904621],\n",
       "       [ 14.37798863,  13.82703937],\n",
       "       [  8.1921917 ,   4.61134844],\n",
       "       [  3.98149483,  11.49210448],\n",
       "       [  2.40034082, -17.29935581],\n",
       "       [ 15.01509643,  -1.98709109],\n",
       "       [ 12.38569531,   6.00461348],\n",
       "       [ 13.04315866,  -3.9965944 ],\n",
       "       [  2.95834412,   7.33057333],\n",
       "       [  9.62080679,  -1.16164725],\n",
       "       [ -5.17823998,  13.64717282],\n",
       "       [  7.3099396 , -16.06107666],\n",
       "       [ 13.16227673,   4.75566063],\n",
       "       [  3.05163532,   4.56616731],\n",
       "       [  7.17693575,   7.79721058],\n",
       "       [  4.6332459 ,  -4.10543972],\n",
       "       [ -0.64395332,   0.84017167],\n",
       "       [ -7.10577745,  -5.95568967],\n",
       "       [ -9.74060342,  -6.12597144],\n",
       "       [ 12.03732353,   4.01301031],\n",
       "       [ 16.70539619, -13.55917666],\n",
       "       [ -4.74852372,  14.68193752],\n",
       "       [  9.74232026,  -4.24931189],\n",
       "       [ 14.58963772,   3.72336393],\n",
       "       [  8.83301783,   4.9118717 ],\n",
       "       [ -4.04311179,  -2.99924907],\n",
       "       [ 12.23694499,  -4.37571801],\n",
       "       [  5.73620812,  -3.41460242],\n",
       "       [  5.43048047,  -5.21015827],\n",
       "       [  8.96572077,  12.68413353],\n",
       "       [  9.72518515,  -1.61418879],\n",
       "       [ 12.54825734,   6.93285959],\n",
       "       [  1.56293976,  15.15652194],\n",
       "       [  9.72730061,  11.76159327],\n",
       "       [  8.55751408,  -8.55884724],\n",
       "       [  8.01297964,  10.01781524],\n",
       "       [ 14.43221812,   0.53734207],\n",
       "       [  5.29855146,   2.03013643],\n",
       "       [ 13.87354887, -14.53160953],\n",
       "       [ -5.91232195,  -2.56206033],\n",
       "       [ -0.49782402, -11.29097249],\n",
       "       [ 11.12451241,  -3.59264878],\n",
       "       [  6.89843239,   6.71494581],\n",
       "       [ -1.56448605,   0.13485977],\n",
       "       [  8.32220804,   3.59089274],\n",
       "       [  0.40353376,   0.26860267],\n",
       "       [ 16.35408903,   0.59260271],\n",
       "       [  7.0424059 ,   2.60066548],\n",
       "       [ -4.62574679,   5.90800655],\n",
       "       [  7.81684443,   1.50356316],\n",
       "       [  2.70934626, -12.41743705],\n",
       "       [ -3.26582946,   1.93417317],\n",
       "       [ 14.75792774,  -7.53874347],\n",
       "       [  3.11592854,   9.82052216],\n",
       "       [  9.85852781,  -8.75225245],\n",
       "       [ 16.50394402,   3.40336739],\n",
       "       [  9.10054982,  14.2825921 ],\n",
       "       [ -7.58872188,   5.38820081],\n",
       "       [-10.13596212,   6.36064783],\n",
       "       [-11.50898401,   5.43895675],\n",
       "       [-12.53516168,   0.97700744],\n",
       "       [ -9.62261642,   7.12508503],\n",
       "       [ -7.96248294,   8.99899891],\n",
       "       [-11.59680129,   3.24552152],\n",
       "       [-13.6044023 ,   6.17620475],\n",
       "       [-10.09141341,   6.03749458],\n",
       "       [-10.75047799,   1.07686278],\n",
       "       [ -5.83460775,   0.92456282],\n",
       "       [-13.06572637,   2.22677471],\n",
       "       [ -4.63592343,   0.9396182 ],\n",
       "       [ -7.85712915,   1.38965058],\n",
       "       [-10.19748738,   3.10224049],\n",
       "       [ -8.09740255,   2.2096169 ],\n",
       "       [ -4.91099096,   3.8574076 ],\n",
       "       [ -8.22750108,   9.72569416],\n",
       "       [ -9.60136492,   8.82470484],\n",
       "       [ -4.91381929,   5.57371995],\n",
       "       [ -8.05098977,   9.47300212],\n",
       "       [ -7.86239336,   4.45374796],\n",
       "       [ -8.72366966,   5.53188367],\n",
       "       [ -9.76354964,   4.47646364],\n",
       "       [ -7.50170982,   6.69630613],\n",
       "       [-11.16098873,   3.96252021],\n",
       "       [ -7.5617651 ,   6.21413743],\n",
       "       [ -8.96608209,   4.82500678],\n",
       "       [ -8.82534012,   1.57714285],\n",
       "       [-10.02387869,   7.74686283],\n",
       "       [ -4.84863571,   3.98533108],\n",
       "       [ -7.82928453,   6.4713269 ],\n",
       "       [ -8.51364056,   2.56144393],\n",
       "       [-11.07894468,   4.37759232],\n",
       "       [ -4.34600248,   3.94105084],\n",
       "       [-10.23999792,   4.55172843],\n",
       "       [ -9.68677276,   6.02657044],\n",
       "       [ -8.37555496,   5.77561937],\n",
       "       [ -7.13341877,   1.54586601],\n",
       "       [-10.47087401,   5.61229314],\n",
       "       [-10.24610102,   3.43993239],\n",
       "       [ -5.99576778,   8.2240306 ],\n",
       "       [-13.48141943,   2.68032078],\n",
       "       [-12.76635217,   4.78173453],\n",
       "       [-10.05803954,   8.4575174 ],\n",
       "       [-11.47506429,   6.24743696],\n",
       "       [ -6.19720196,   9.24492652],\n",
       "       [-10.42191777,   8.73018833],\n",
       "       [ -9.05853599,   8.16638761],\n",
       "       [-13.06094086,   4.61610805],\n",
       "       [ -2.20256502, -11.42949565],\n",
       "       [ -4.76656116,   0.49118947],\n",
       "       [-11.421326  ,  -4.82083173],\n",
       "       [ -1.05299744, -14.76741707],\n",
       "       [ -5.34797933, -10.33707354],\n",
       "       [ -9.58482223, -11.54055578],\n",
       "       [ -9.05802175,  -4.33313425],\n",
       "       [-11.64776893,  -1.61452234],\n",
       "       [ -2.64241762,   1.06891998],\n",
       "       [-11.88017839,  -9.38346745],\n",
       "       [ -7.26273512, -11.32128379],\n",
       "       [ -5.97233513,  -1.04641257],\n",
       "       [ -8.16481022, -12.86298031],\n",
       "       [ -2.36392562,   4.16413284],\n",
       "       [-13.25087381,  -2.78683949],\n",
       "       [-10.5142465 ,  -4.33909861],\n",
       "       [-11.57654982,  -7.58221785],\n",
       "       [-12.90917698,  -7.29108147],\n",
       "       [  5.06533747,  -3.76821148],\n",
       "       [-11.76576405,  -5.9731165 ],\n",
       "       [-11.96578917, -14.47108417],\n",
       "       [ -9.03488334,  -5.89793623],\n",
       "       [  1.0132292 ,  -1.36145911],\n",
       "       [ -6.00841926, -10.28144665],\n",
       "       [ -2.36875753,  -2.28700138],\n",
       "       [-15.176267  ,   2.85216081],\n",
       "       [ -4.00138314, -10.3844124 ],\n",
       "       [ -6.84524122, -16.09334874],\n",
       "       [ -9.82450893,  -1.64746714],\n",
       "       [ -6.83543769,  -1.23856616],\n",
       "       [-12.82270382,   2.39187959],\n",
       "       [-11.43963452,  -8.1822886 ],\n",
       "       [ -7.62910902,  -6.35950586],\n",
       "       [-10.01646957, -12.65533847],\n",
       "       [-15.10083755, -12.73959943],\n",
       "       [-17.53244237,  -2.28114013],\n",
       "       [ -4.74508759, -12.49396486],\n",
       "       [-13.37287761,  -7.09335339],\n",
       "       [ -0.08088655,  -0.10667548],\n",
       "       [ -2.22378977,  -3.74028368],\n",
       "       [-11.95977198,  -2.72425172],\n",
       "       [ -3.87201253, -10.5069671 ],\n",
       "       [ -5.99543019,   3.69598342],\n",
       "       [ -9.2248704 ,  -2.32735374],\n",
       "       [-12.26877744,  -1.24025813],\n",
       "       [ -8.96189337, -12.52147865],\n",
       "       [ -6.24003171,  -0.89616253],\n",
       "       [ -3.03960862,  -9.85432238],\n",
       "       [-11.61717906,   1.88381053],\n",
       "       [-10.42429239,  -3.83844897]])"
      ]
     },
     "execution_count": 124,
     "metadata": {},
     "output_type": "execute_result"
    }
   ],
   "source": [
    "dists"
   ]
  },
  {
   "cell_type": "code",
   "execution_count": 80,
   "metadata": {
    "collapsed": false
   },
   "outputs": [],
   "source": [
    "def move_centroids(points, closest, centroids):\n",
    "    '''\n",
    "        Returns the new centroids assigned from the points closest to them\n",
    "    '''\n",
    "    return np.array([points[closest==k].mean(axis=0) for k in range(centroids.shape[0])])\n"
   ]
  },
  {
   "cell_type": "code",
   "execution_count": null,
   "metadata": {
    "collapsed": false
   },
   "outputs": [],
   "source": []
  },
  {
   "cell_type": "code",
   "execution_count": 81,
   "metadata": {
    "collapsed": true
   },
   "outputs": [],
   "source": [
    "def main(points):\n",
    "    num_iterations = 100\n",
    "    k = 10\n",
    "        \n",
    "    # Initialize centroids\n",
    "    centroids = initialize_centroids(points, k)\n",
    "    \n",
    "    # Run iterative process\n",
    "    for i in range(num_iterations):\n",
    "        closest = closest_centroid(points, centroids)\n",
    "        centroids = move_centroids(points, closest, centroids)\n",
    "    \n",
    "    return centroids"
   ]
  },
  {
   "cell_type": "code",
   "execution_count": 82,
   "metadata": {
    "collapsed": false
   },
   "outputs": [],
   "source": [
    "centroids = main(points)"
   ]
  },
  {
   "cell_type": "code",
   "execution_count": 83,
   "metadata": {
    "collapsed": false
   },
   "outputs": [
    {
     "data": {
      "image/png": "[encoded data removed]",
      "text/plain": [
       "<matplotlib.figure.Figure at 0x169ebe2e9e8>"
      ]
     },
     "metadata": {},
     "output_type": "display_data"
    }
   ],
   "source": [
    "centroids = initialize_centroids(points, 10)\n",
    "\n",
    "plt.scatter(points[:, 0], points[:, 1])\n",
    "plt.scatter(centroids[:, 0], centroids[:, 1], c='r', s=100)\n",
    "ax = plt.gca()"
   ]
  },
  {
   "cell_type": "code",
   "execution_count": 90,
   "metadata": {
    "collapsed": false
   },
   "outputs": [
    {
     "data": {
      "image/png": "[encoded data removed]",
      "text/plain": [
       "<matplotlib.figure.Figure at 0x169ebf627b8>"
      ]
     },
     "metadata": {},
     "output_type": "display_data"
    }
   ],
   "source": [
    "closest = closest_centroid(points, centroids)\n",
    "centroids = move_centroids(points, closest, centroids)\n",
    "\n",
    "plt.scatter(points[:, 0], points[:, 1])\n",
    "plt.scatter(centroids[:, 0], centroids[:, 1], c='r', s=100)\n",
    "ax = plt.gca()"
   ]
  },
  {
   "cell_type": "code",
   "execution_count": null,
   "metadata": {
    "collapsed": true
   },
   "outputs": [],
   "source": []
  },
  {
   "cell_type": "code",
   "execution_count": null,
   "metadata": {
    "collapsed": true
   },
   "outputs": [],
   "source": []
  },
  {
   "cell_type": "code",
   "execution_count": null,
   "metadata": {
    "collapsed": true
   },
   "outputs": [],
   "source": []
  },
  {
   "cell_type": "code",
   "execution_count": null,
   "metadata": {
    "collapsed": true
   },
   "outputs": [],
   "source": []
  }
 ],
 "metadata": {
  "anaconda-cloud": {},
  "kernelspec": {
   "display_name": "Python [conda root]",
   "language": "python",
   "name": "conda-root-py"
  },
  "language_info": {
   "codemirror_mode": {
    "name": "ipython",
    "version": 3
   },
   "file_extension": ".py",
   "mimetype": "text/x-python",
   "name": "python",
   "nbconvert_exporter": "python",
   "pygments_lexer": "ipython3",
   "version": "3.5.2"
  }
 },
 "nbformat": 4,
 "nbformat_minor": 2
}
