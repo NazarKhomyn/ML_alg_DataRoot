{
 "cells": [
  {
   "cell_type": "markdown",
   "metadata": {},
   "source": [
    "## SVM Checker"
   ]
  },
  {
   "cell_type": "code",
   "execution_count": 1,
   "metadata": {
    "collapsed": false
   },
   "outputs": [
    {
     "ename": "ImportError",
     "evalue": "No module named 'cvxopt'",
     "output_type": "error",
     "traceback": [
      "\u001b[0;31m---------------------------------------------------------------------------\u001b[0m",
      "\u001b[0;31mImportError\u001b[0m                               Traceback (most recent call last)",
      "\u001b[0;32m<ipython-input-1-cfade7af7056>\u001b[0m in \u001b[0;36m<module>\u001b[0;34m()\u001b[0m\n\u001b[1;32m      1\u001b[0m \u001b[0mget_ipython\u001b[0m\u001b[1;33m(\u001b[0m\u001b[1;33m)\u001b[0m\u001b[1;33m.\u001b[0m\u001b[0mmagic\u001b[0m\u001b[1;33m(\u001b[0m\u001b[1;34m'matplotlib inline'\u001b[0m\u001b[1;33m)\u001b[0m\u001b[1;33m\u001b[0m\u001b[0m\n\u001b[0;32m----> 2\u001b[0;31m \u001b[1;32mimport\u001b[0m \u001b[0msvm\u001b[0m\u001b[1;33m\u001b[0m\u001b[0m\n\u001b[0m\u001b[1;32m      3\u001b[0m \u001b[1;32mimport\u001b[0m \u001b[0mnumpy\u001b[0m \u001b[1;32mas\u001b[0m \u001b[0mnp\u001b[0m\u001b[1;33m\u001b[0m\u001b[0m\n\u001b[1;32m      4\u001b[0m \u001b[1;32mimport\u001b[0m \u001b[0mmatplotlib\u001b[0m\u001b[1;33m.\u001b[0m\u001b[0mpyplot\u001b[0m \u001b[1;32mas\u001b[0m \u001b[0mplt\u001b[0m\u001b[1;33m\u001b[0m\u001b[0m\n\u001b[1;32m      5\u001b[0m \u001b[1;32mimport\u001b[0m \u001b[0mmatplotlib\u001b[0m\u001b[1;33m.\u001b[0m\u001b[0mcm\u001b[0m \u001b[1;32mas\u001b[0m \u001b[0mcm\u001b[0m\u001b[1;33m\u001b[0m\u001b[0m\n",
      "\u001b[0;32mC:\\Users\\nazar\\OneDrive\\Документы\\GitHub\\ML_alg_DataRoot\\svm\\svm\\__init__.py\u001b[0m in \u001b[0;36m<module>\u001b[0;34m()\u001b[0m\n\u001b[0;32m----> 1\u001b[0;31m \u001b[1;32mfrom\u001b[0m \u001b[1;33m.\u001b[0m\u001b[0msvm\u001b[0m \u001b[1;32mimport\u001b[0m \u001b[0mSVMTrainer\u001b[0m\u001b[1;33m,\u001b[0m \u001b[0mSVMPredictor\u001b[0m\u001b[1;33m\u001b[0m\u001b[0m\n\u001b[0m\u001b[1;32m      2\u001b[0m \u001b[1;32mfrom\u001b[0m \u001b[1;33m.\u001b[0m\u001b[0mkernel\u001b[0m \u001b[1;32mimport\u001b[0m \u001b[0mKernel\u001b[0m\u001b[1;33m\u001b[0m\u001b[0m\n",
      "\u001b[0;32mC:\\Users\\nazar\\OneDrive\\Документы\\GitHub\\ML_alg_DataRoot\\svm\\svm\\svm.py\u001b[0m in \u001b[0;36m<module>\u001b[0;34m()\u001b[0m\n\u001b[1;32m      1\u001b[0m \u001b[1;32mimport\u001b[0m \u001b[0mnumpy\u001b[0m \u001b[1;32mas\u001b[0m \u001b[0mnp\u001b[0m\u001b[1;33m\u001b[0m\u001b[0m\n\u001b[0;32m----> 2\u001b[0;31m \u001b[1;32mimport\u001b[0m \u001b[0mcvxopt\u001b[0m\u001b[1;33m.\u001b[0m\u001b[0msolvers\u001b[0m\u001b[1;33m\u001b[0m\u001b[0m\n\u001b[0m\u001b[1;32m      3\u001b[0m \u001b[1;32mimport\u001b[0m \u001b[0mlogging\u001b[0m\u001b[1;33m\u001b[0m\u001b[0m\n\u001b[1;32m      4\u001b[0m \u001b[1;33m\u001b[0m\u001b[0m\n\u001b[1;32m      5\u001b[0m \u001b[1;33m\u001b[0m\u001b[0m\n",
      "\u001b[0;31mImportError\u001b[0m: No module named 'cvxopt'"
     ]
    }
   ],
   "source": [
    "%matplotlib inline\n",
    "import svm\n",
    "import numpy as np\n",
    "import matplotlib.pyplot as plt\n",
    "import matplotlib.cm as cm\n",
    "import itertools\n",
    "\n",
    "\n",
    "\n",
    "\n",
    "def example(num_samples=10, num_features=2, grid_size=20):\n",
    "    \n",
    "    samples = np.matrix(np.random.normal(size=num_samples * num_features)\n",
    "                        .reshape(num_samples, num_features))\n",
    "    \n",
    "    labels = 2 * (samples.sum(axis=1) > 0) - 1.0\n",
    "    \n",
    "    trainer = svm.SVMTrainer(svm.Kernel.linear())\n",
    "    \n",
    "    predictor = trainer.train(samples, labels)\n",
    "\n",
    "    plot(predictor, samples, labels, grid_size)\n",
    "\n",
    "\n",
    "def plot(predictor, X, y, grid_size):\n",
    "    \n",
    "    x_min, x_max = X[:, 0].min() - 1, X[:, 0].max() + 1\n",
    "    y_min, y_max = X[:, 1].min() - 1, X[:, 1].max() + 1\n",
    "    \n",
    "    xx, yy = np.meshgrid(\n",
    "        np.linspace(x_min, x_max, grid_size),\n",
    "        np.linspace(y_min, y_max, grid_size),\n",
    "        indexing='ij'\n",
    "    )\n",
    "    \n",
    "    flatten = lambda m: np.array(m).reshape(-1,)\n",
    "\n",
    "    result = []\n",
    "    \n",
    "    for (i, j) in itertools.product(range(grid_size), range(grid_size)):\n",
    "        point = np.array([xx[i, j], yy[i, j]]).reshape(1, 2)\n",
    "        result.append(predictor.predict(point))\n",
    "\n",
    "    Z = np.array(result).reshape(xx.shape)\n",
    "    \n",
    "    plt.contourf(\n",
    "        xx, yy, Z,\n",
    "        cmap=cm.Paired,\n",
    "        levels=[-0.01, 0.01],\n",
    "        extend='both',\n",
    "        alpha=0.8\n",
    "    )\n",
    "    \n",
    "    \n",
    "    plt.scatter(\n",
    "        flatten(X[:, 0]),\n",
    "        flatten(X[:, 1]),\n",
    "        c=flatten(y),\n",
    "        cmap=cm.Paired\n",
    "    )\n",
    "    \n",
    "    plt.xlim(x_min, x_max)\n",
    "    plt.ylim(y_min, y_max)"
   ]
  },
  {
   "cell_type": "code",
   "execution_count": 4,
   "metadata": {
    "collapsed": false
   },
   "outputs": [
    {
     "ename": "NameError",
     "evalue": "name 'example' is not defined",
     "output_type": "error",
     "traceback": [
      "\u001b[0;31m---------------------------------------------------------------------------\u001b[0m",
      "\u001b[0;31mNameError\u001b[0m                                 Traceback (most recent call last)",
      "\u001b[0;32m<ipython-input-4-2ec4691f1811>\u001b[0m in \u001b[0;36m<module>\u001b[0;34m()\u001b[0m\n\u001b[0;32m----> 1\u001b[0;31m \u001b[0mexample\u001b[0m\u001b[1;33m(\u001b[0m\u001b[1;33m)\u001b[0m\u001b[1;33m\u001b[0m\u001b[0m\n\u001b[0m",
      "\u001b[0;31mNameError\u001b[0m: name 'example' is not defined"
     ]
    }
   ],
   "source": [
    "example()"
   ]
  },
  {
   "cell_type": "code",
   "execution_count": 2,
   "metadata": {
    "collapsed": false
   },
   "outputs": [
    {
     "name": "stdout",
     "output_type": "stream",
     "text": [
      "Collecting cvxopt\n",
      "  Downloading cvxopt-1.1.9.tar.gz (1.9MB)\n",
      "Building wheels for collected packages: cvxopt\n",
      "  Running setup.py bdist_wheel for cvxopt: started\n",
      "  Running setup.py bdist_wheel for cvxopt: finished with status 'error'\n",
      "  Complete output from command c:\\users\\nazar\\anaconda3\\python.exe -u -c \"import setuptools, tokenize;__file__='C:\\\\Users\\\\nazar\\\\AppData\\\\Local\\\\Temp\\\\pip-build-apkeo2a4\\\\cvxopt\\\\setup.py';f=getattr(tokenize, 'open', open)(__file__);code=f.read().replace('\\r\\n', '\\n');f.close();exec(compile(code, __file__, 'exec'))\" bdist_wheel -d C:\\Users\\nazar\\AppData\\Local\\Temp\\tmp99va9voqpip-wheel- --python-tag cp35:\n",
      "  running bdist_wheel\n",
      "  running build\n",
      "  running build_py\n",
      "  creating build\n",
      "  creating build\\lib.win-amd64-3.5\n",
      "  creating build\\lib.win-amd64-3.5\\cvxopt\n",
      "  copying src\\python\\coneprog.py -> build\\lib.win-amd64-3.5\\cvxopt\n",
      "  copying src\\python\\cvxprog.py -> build\\lib.win-amd64-3.5\\cvxopt\n",
      "  copying src\\python\\info.py -> build\\lib.win-amd64-3.5\\cvxopt\n",
      "  copying src\\python\\misc.py -> build\\lib.win-amd64-3.5\\cvxopt\n",
      "  copying src\\python\\modeling.py -> build\\lib.win-amd64-3.5\\cvxopt\n",
      "  copying src\\python\\msk.py -> build\\lib.win-amd64-3.5\\cvxopt\n",
      "  copying src\\python\\printing.py -> build\\lib.win-amd64-3.5\\cvxopt\n",
      "  copying src\\python\\solvers.py -> build\\lib.win-amd64-3.5\\cvxopt\n",
      "  copying src\\python\\_version.py -> build\\lib.win-amd64-3.5\\cvxopt\n",
      "  copying src\\python\\__init__.py -> build\\lib.win-amd64-3.5\\cvxopt\n",
      "  UPDATING build\\lib.win-amd64-3.5\\cvxopt/_version.py\n",
      "  set build\\lib.win-amd64-3.5\\cvxopt/_version.py to '1.1.9'\n",
      "  running build_ext\n",
      "  building 'base' extension\n",
      "  error: Microsoft Visual C++ 14.0 is required. Get it with \"Microsoft Visual C++ Build Tools\": http://landinghub.visualstudio.com/visual-cpp-build-tools\n",
      "  \n",
      "  ----------------------------------------\n",
      "  Running setup.py clean for cvxopt\n",
      "Failed to build cvxopt\n",
      "Installing collected packages: cvxopt\n",
      "  Running setup.py install for cvxopt: started\n",
      "    Running setup.py install for cvxopt: finished with status 'error'\n",
      "    Complete output from command c:\\users\\nazar\\anaconda3\\python.exe -u -c \"import setuptools, tokenize;__file__='C:\\\\Users\\\\nazar\\\\AppData\\\\Local\\\\Temp\\\\pip-build-apkeo2a4\\\\cvxopt\\\\setup.py';f=getattr(tokenize, 'open', open)(__file__);code=f.read().replace('\\r\\n', '\\n');f.close();exec(compile(code, __file__, 'exec'))\" install --record C:\\Users\\nazar\\AppData\\Local\\Temp\\pip-pq40h4ad-record\\install-record.txt --single-version-externally-managed --compile:\n",
      "    running install\n",
      "    running build\n",
      "    running build_py\n",
      "    creating build\n",
      "    creating build\\lib.win-amd64-3.5\n",
      "    creating build\\lib.win-amd64-3.5\\cvxopt\n",
      "    copying src\\python\\coneprog.py -> build\\lib.win-amd64-3.5\\cvxopt\n",
      "    copying src\\python\\cvxprog.py -> build\\lib.win-amd64-3.5\\cvxopt\n",
      "    copying src\\python\\info.py -> build\\lib.win-amd64-3.5\\cvxopt\n",
      "    copying src\\python\\misc.py -> build\\lib.win-amd64-3.5\\cvxopt\n",
      "    copying src\\python\\modeling.py -> build\\lib.win-amd64-3.5\\cvxopt\n",
      "    copying src\\python\\msk.py -> build\\lib.win-amd64-3.5\\cvxopt\n",
      "    copying src\\python\\printing.py -> build\\lib.win-amd64-3.5\\cvxopt\n",
      "    copying src\\python\\solvers.py -> build\\lib.win-amd64-3.5\\cvxopt\n",
      "    copying src\\python\\_version.py -> build\\lib.win-amd64-3.5\\cvxopt\n",
      "    copying src\\python\\__init__.py -> build\\lib.win-amd64-3.5\\cvxopt\n",
      "    UPDATING build\\lib.win-amd64-3.5\\cvxopt/_version.py\n",
      "    set build\\lib.win-amd64-3.5\\cvxopt/_version.py to '1.1.9'\n",
      "    running build_ext\n",
      "    building 'base' extension\n",
      "    error: Microsoft Visual C++ 14.0 is required. Get it with \"Microsoft Visual C++ Build Tools\": http://landinghub.visualstudio.com/visual-cpp-build-tools\n",
      "    \n",
      "    ----------------------------------------\n"
     ]
    },
    {
     "name": "stderr",
     "output_type": "stream",
     "text": [
      "  Failed building wheel for cvxopt\n",
      "Command \"c:\\users\\nazar\\anaconda3\\python.exe -u -c \"import setuptools, tokenize;__file__='C:\\\\Users\\\\nazar\\\\AppData\\\\Local\\\\Temp\\\\pip-build-apkeo2a4\\\\cvxopt\\\\setup.py';f=getattr(tokenize, 'open', open)(__file__);code=f.read().replace('\\r\\n', '\\n');f.close();exec(compile(code, __file__, 'exec'))\" install --record C:\\Users\\nazar\\AppData\\Local\\Temp\\pip-pq40h4ad-record\\install-record.txt --single-version-externally-managed --compile\" failed with error code 1 in C:\\Users\\nazar\\AppData\\Local\\Temp\\pip-build-apkeo2a4\\cvxopt\\\n"
     ]
    }
   ],
   "source": [
    "!pip install cvxopt"
   ]
  },
  {
   "cell_type": "code",
   "execution_count": 6,
   "metadata": {
    "collapsed": false
   },
   "outputs": [
    {
     "name": "stderr",
     "output_type": "stream",
     "text": [
      "Invalid requirement: 'numpy+mkl'\n",
      "Traceback (most recent call last):\n",
      "  File \"c:\\users\\nazar\\anaconda3\\lib\\site-packages\\pip\\_vendor\\packaging\\requirements.py\", line 92, in __init__\n",
      "    req = REQUIREMENT.parseString(requirement_string)\n",
      "  File \"c:\\users\\nazar\\anaconda3\\lib\\site-packages\\pip\\_vendor\\pyparsing.py\", line 1617, in parseString\n",
      "    raise exc\n",
      "  File \"c:\\users\\nazar\\anaconda3\\lib\\site-packages\\pip\\_vendor\\pyparsing.py\", line 1607, in parseString\n",
      "    loc, tokens = self._parse( instring, 0 )\n",
      "  File \"c:\\users\\nazar\\anaconda3\\lib\\site-packages\\pip\\_vendor\\pyparsing.py\", line 1379, in _parseNoCache\n",
      "    loc,tokens = self.parseImpl( instring, preloc, doActions )\n",
      "  File \"c:\\users\\nazar\\anaconda3\\lib\\site-packages\\pip\\_vendor\\pyparsing.py\", line 3376, in parseImpl\n",
      "    loc, exprtokens = e._parse( instring, loc, doActions )\n",
      "  File \"c:\\users\\nazar\\anaconda3\\lib\\site-packages\\pip\\_vendor\\pyparsing.py\", line 1383, in _parseNoCache\n",
      "    loc,tokens = self.parseImpl( instring, preloc, doActions )\n",
      "  File \"c:\\users\\nazar\\anaconda3\\lib\\site-packages\\pip\\_vendor\\pyparsing.py\", line 3164, in parseImpl\n",
      "    raise ParseException(instring, loc, self.errmsg, self)\n",
      "pip._vendor.pyparsing.ParseException: Expected stringEnd (at char 5), (line:1, col:6)\n",
      "\n",
      "During handling of the above exception, another exception occurred:\n",
      "\n",
      "Traceback (most recent call last):\n",
      "  File \"c:\\users\\nazar\\anaconda3\\lib\\site-packages\\pip\\req\\req_install.py\", line 82, in __init__\n",
      "    req = Requirement(req)\n",
      "  File \"c:\\users\\nazar\\anaconda3\\lib\\site-packages\\pip\\_vendor\\packaging\\requirements.py\", line 96, in __init__\n",
      "    requirement_string[e.loc:e.loc + 8]))\n",
      "pip._vendor.packaging.requirements.InvalidRequirement: Invalid requirement, parse error at \"'+mkl'\"\n",
      "\n"
     ]
    }
   ],
   "source": [
    "!pip install \"numpy+mkl\""
   ]
  },
  {
   "cell_type": "code",
   "execution_count": null,
   "metadata": {
    "collapsed": false
   },
   "outputs": [],
   "source": [
    "\n"
   ]
  },
  {
   "cell_type": "code",
   "execution_count": null,
   "metadata": {
    "collapsed": true
   },
   "outputs": [],
   "source": []
  },
  {
   "cell_type": "code",
   "execution_count": null,
   "metadata": {
    "collapsed": true
   },
   "outputs": [],
   "source": []
  },
  {
   "cell_type": "code",
   "execution_count": null,
   "metadata": {
    "collapsed": true
   },
   "outputs": [],
   "source": []
  }
 ],
 "metadata": {
  "anaconda-cloud": {},
  "kernelspec": {
   "display_name": "Python [conda root]",
   "language": "python",
   "name": "conda-root-py"
  },
  "language_info": {
   "codemirror_mode": {
    "name": "ipython",
    "version": 3
   },
   "file_extension": ".py",
   "mimetype": "text/x-python",
   "name": "python",
   "nbconvert_exporter": "python",
   "pygments_lexer": "ipython3",
   "version": "3.5.2"
  }
 },
 "nbformat": 4,
 "nbformat_minor": 2
}
